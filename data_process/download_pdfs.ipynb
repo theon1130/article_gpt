{
 "cells": [
  {
   "cell_type": "code",
   "execution_count": 15,
   "id": "initial_id",
   "metadata": {
    "collapsed": true,
    "jupyter": {
     "is_executing": true
    }
   },
   "outputs": [
    {
     "name": "stderr",
     "output_type": "stream",
     "text": [
      "<>:5: SyntaxWarning: invalid escape sequence '\\?'\n",
      "<>:5: SyntaxWarning: invalid escape sequence '\\?'\n",
      "/var/folders/vy/smfrnq6919b7qvbdxks87f9h0000gn/T/ipykernel_40757/3082413434.py:5: SyntaxWarning: invalid escape sequence '\\?'\n",
      "  regex = re.compile(\"\\?id=(.+)$\")\n"
     ]
    }
   ],
   "source": [
    "import requests\n",
    "import os\n",
    "import pandas as pd\n",
    "import re\n",
    "regex = re.compile(\"\\?id=(.+)$\")"
   ]
  },
  {
   "cell_type": "code",
   "execution_count": 16,
   "id": "4a1c18bdf828981a",
   "metadata": {},
   "outputs": [
    {
     "data": {
      "text/html": [
       "<div>\n",
       "<style scoped>\n",
       "    .dataframe tbody tr th:only-of-type {\n",
       "        vertical-align: middle;\n",
       "    }\n",
       "\n",
       "    .dataframe tbody tr th {\n",
       "        vertical-align: top;\n",
       "    }\n",
       "\n",
       "    .dataframe thead th {\n",
       "        text-align: right;\n",
       "    }\n",
       "</style>\n",
       "<table border=\"1\" class=\"dataframe\">\n",
       "  <thead>\n",
       "    <tr style=\"text-align: right;\">\n",
       "      <th></th>\n",
       "      <th>b_pdf_url</th>\n",
       "    </tr>\n",
       "  </thead>\n",
       "  <tbody>\n",
       "    <tr>\n",
       "      <th>0</th>\n",
       "      <td>https://openreview.net/pdf?id=ryzm6BATZ</td>\n",
       "    </tr>\n",
       "    <tr>\n",
       "      <th>1</th>\n",
       "      <td>https://openreview.net/pdf?id=rylejExC-</td>\n",
       "    </tr>\n",
       "    <tr>\n",
       "      <th>2</th>\n",
       "      <td>https://openreview.net/pdf?id=rybDdHe0Z</td>\n",
       "    </tr>\n",
       "    <tr>\n",
       "      <th>3</th>\n",
       "      <td>https://openreview.net/pdf?id=ryZ283gAZ</td>\n",
       "    </tr>\n",
       "    <tr>\n",
       "      <th>4</th>\n",
       "      <td>https://openreview.net/pdf?id=ryG6xZ-RZ</td>\n",
       "    </tr>\n",
       "  </tbody>\n",
       "</table>\n",
       "</div>"
      ],
      "text/plain": [
       "                                 b_pdf_url\n",
       "0  https://openreview.net/pdf?id=ryzm6BATZ\n",
       "1  https://openreview.net/pdf?id=rylejExC-\n",
       "2  https://openreview.net/pdf?id=rybDdHe0Z\n",
       "3  https://openreview.net/pdf?id=ryZ283gAZ\n",
       "4  https://openreview.net/pdf?id=ryG6xZ-RZ"
      ]
     },
     "execution_count": 16,
     "metadata": {},
     "output_type": "execute_result"
    }
   ],
   "source": [
    "df = pd.read_csv(\"./pdf_urls_10percent.csv\")\n",
    "df.head()"
   ]
  },
  {
   "cell_type": "code",
   "execution_count": 17,
   "id": "696d36c22eb3eb9c",
   "metadata": {},
   "outputs": [
    {
     "data": {
      "text/plain": [
       "['ryzm6BATZ', 'rylejExC-', 'rybDdHe0Z', 'ryZ283gAZ', 'ryG6xZ-RZ']"
      ]
     },
     "execution_count": 17,
     "metadata": {},
     "output_type": "execute_result"
    }
   ],
   "source": [
    "filenames = []\n",
    "for url in df[\"b_pdf_url\"]:\n",
    "    filename = re.findall(regex, url)[0]\n",
    "    filenames.append(filename)\n",
    "filenames[:5]"
   ]
  },
  {
   "cell_type": "code",
   "execution_count": 18,
   "id": "ed07ef5d1219fa55",
   "metadata": {},
   "outputs": [
    {
     "data": {
      "text/html": [
       "<div>\n",
       "<style scoped>\n",
       "    .dataframe tbody tr th:only-of-type {\n",
       "        vertical-align: middle;\n",
       "    }\n",
       "\n",
       "    .dataframe tbody tr th {\n",
       "        vertical-align: top;\n",
       "    }\n",
       "\n",
       "    .dataframe thead th {\n",
       "        text-align: right;\n",
       "    }\n",
       "</style>\n",
       "<table border=\"1\" class=\"dataframe\">\n",
       "  <thead>\n",
       "    <tr style=\"text-align: right;\">\n",
       "      <th></th>\n",
       "      <th>b_pdf_url</th>\n",
       "      <th>b_forum</th>\n",
       "    </tr>\n",
       "  </thead>\n",
       "  <tbody>\n",
       "    <tr>\n",
       "      <th>0</th>\n",
       "      <td>https://openreview.net/pdf?id=ryzm6BATZ</td>\n",
       "      <td>ryzm6BATZ</td>\n",
       "    </tr>\n",
       "    <tr>\n",
       "      <th>1</th>\n",
       "      <td>https://openreview.net/pdf?id=rylejExC-</td>\n",
       "      <td>rylejExC-</td>\n",
       "    </tr>\n",
       "    <tr>\n",
       "      <th>2</th>\n",
       "      <td>https://openreview.net/pdf?id=rybDdHe0Z</td>\n",
       "      <td>rybDdHe0Z</td>\n",
       "    </tr>\n",
       "    <tr>\n",
       "      <th>3</th>\n",
       "      <td>https://openreview.net/pdf?id=ryZ283gAZ</td>\n",
       "      <td>ryZ283gAZ</td>\n",
       "    </tr>\n",
       "    <tr>\n",
       "      <th>4</th>\n",
       "      <td>https://openreview.net/pdf?id=ryG6xZ-RZ</td>\n",
       "      <td>ryG6xZ-RZ</td>\n",
       "    </tr>\n",
       "  </tbody>\n",
       "</table>\n",
       "</div>"
      ],
      "text/plain": [
       "                                 b_pdf_url    b_forum\n",
       "0  https://openreview.net/pdf?id=ryzm6BATZ  ryzm6BATZ\n",
       "1  https://openreview.net/pdf?id=rylejExC-  rylejExC-\n",
       "2  https://openreview.net/pdf?id=rybDdHe0Z  rybDdHe0Z\n",
       "3  https://openreview.net/pdf?id=ryZ283gAZ  ryZ283gAZ\n",
       "4  https://openreview.net/pdf?id=ryG6xZ-RZ  ryG6xZ-RZ"
      ]
     },
     "execution_count": 18,
     "metadata": {},
     "output_type": "execute_result"
    }
   ],
   "source": [
    "df[\"b_forum\"] = filenames\n",
    "df.head()"
   ]
  },
  {
   "cell_type": "code",
   "execution_count": 19,
   "id": "479bb06d5c623157",
   "metadata": {},
   "outputs": [
    {
     "name": "stdout",
     "output_type": "stream",
     "text": [
      "(2468, 2)\n"
     ]
    },
    {
     "data": {
      "text/html": [
       "<div>\n",
       "<style scoped>\n",
       "    .dataframe tbody tr th:only-of-type {\n",
       "        vertical-align: middle;\n",
       "    }\n",
       "\n",
       "    .dataframe tbody tr th {\n",
       "        vertical-align: top;\n",
       "    }\n",
       "\n",
       "    .dataframe thead th {\n",
       "        text-align: right;\n",
       "    }\n",
       "</style>\n",
       "<table border=\"1\" class=\"dataframe\">\n",
       "  <thead>\n",
       "    <tr style=\"text-align: right;\">\n",
       "      <th></th>\n",
       "      <th>b_pdf_url</th>\n",
       "      <th>b_forum</th>\n",
       "    </tr>\n",
       "  </thead>\n",
       "  <tbody>\n",
       "    <tr>\n",
       "      <th>0</th>\n",
       "      <td>https://openreview.net/pdf?id=ryzm6BATZ</td>\n",
       "      <td>ryzm6BATZ</td>\n",
       "    </tr>\n",
       "    <tr>\n",
       "      <th>1</th>\n",
       "      <td>https://openreview.net/pdf?id=rylejExC-</td>\n",
       "      <td>rylejExC-</td>\n",
       "    </tr>\n",
       "    <tr>\n",
       "      <th>2</th>\n",
       "      <td>https://openreview.net/pdf?id=rybDdHe0Z</td>\n",
       "      <td>rybDdHe0Z</td>\n",
       "    </tr>\n",
       "    <tr>\n",
       "      <th>3</th>\n",
       "      <td>https://openreview.net/pdf?id=ryZ283gAZ</td>\n",
       "      <td>ryZ283gAZ</td>\n",
       "    </tr>\n",
       "    <tr>\n",
       "      <th>4</th>\n",
       "      <td>https://openreview.net/pdf?id=ryG6xZ-RZ</td>\n",
       "      <td>ryG6xZ-RZ</td>\n",
       "    </tr>\n",
       "  </tbody>\n",
       "</table>\n",
       "</div>"
      ],
      "text/plain": [
       "                                 b_pdf_url    b_forum\n",
       "0  https://openreview.net/pdf?id=ryzm6BATZ  ryzm6BATZ\n",
       "1  https://openreview.net/pdf?id=rylejExC-  rylejExC-\n",
       "2  https://openreview.net/pdf?id=rybDdHe0Z  rybDdHe0Z\n",
       "3  https://openreview.net/pdf?id=ryZ283gAZ  ryZ283gAZ\n",
       "4  https://openreview.net/pdf?id=ryG6xZ-RZ  ryG6xZ-RZ"
      ]
     },
     "execution_count": 19,
     "metadata": {},
     "output_type": "execute_result"
    }
   ],
   "source": [
    "df_dup_forum = df\n",
    "print(df_dup_forum.shape)\n",
    "df_dup_forum.head()"
   ]
  },
  {
   "cell_type": "code",
   "execution_count": 21,
   "id": "6c6b38078f5574d0",
   "metadata": {},
   "outputs": [],
   "source": [
    "import requests\n",
    "import time\n",
    "def get_paper_pdf(forum, pdf_url):\n",
    "    response = requests.get(pdf_url)\n",
    "    with open('./papers_pdf/{}.pdf'.format(forum), 'wb') as f:\n",
    "        f.write(response.content)\n",
    "    return\n",
    "\n",
    "pdf_dict = {}\n",
    "start_idx = 5\n",
    "end_idx = 6\n",
    "df_dup_length = df_dup_forum.shape[0]\n",
    "for idx, row in df_dup_forum.iterrows():\n",
    "    if idx < start_idx:\n",
    "        continue\n",
    "    if idx % 10 == 0:\n",
    "# time.sleep(1.5)\n",
    "        print('{}/{}'.format(idx, df_dup_length))\n",
    "    try:\n",
    "        get_paper_pdf(row['b_forum'], row['b_pdf_url'])\n",
    "    except:\n",
    "        time.sleep(5)\n",
    "        get_paper_pdf(row['b_forum'], row['b_pdf_url'])\n",
    "    if idx == end_idx:\n",
    "        break"
   ]
  }
 ],
 "metadata": {
  "kernelspec": {
   "display_name": "Python 3",
   "language": "python",
   "name": "python3"
  },
  "language_info": {
   "codemirror_mode": {
    "name": "ipython",
    "version": 3
   },
   "file_extension": ".py",
   "mimetype": "text/x-python",
   "name": "python",
   "nbconvert_exporter": "python",
   "pygments_lexer": "ipython3",
   "version": "3.12.3"
  }
 },
 "nbformat": 4,
 "nbformat_minor": 5
}
